{
 "cells": [
  {
   "cell_type": "markdown",
   "id": "447c3b3c",
   "metadata": {},
   "source": [
    "# 14. OCV ESPACIOS DE COLORES\n",
    "## Curso: Inteligencia Artificial\n",
    "## Estudiante: Torres Talaverano Luz Elena\n",
    "## Código de Estudiante: 19200294"
   ]
  },
  {
   "cell_type": "code",
   "execution_count": 1,
   "id": "856625ea",
   "metadata": {},
   "outputs": [],
   "source": [
    "from matplotlib import pyplot as plt\n",
    "import numpy as np\n",
    "import cv2"
   ]
  },
  {
   "cell_type": "code",
   "execution_count": 2,
   "id": "589f1be0",
   "metadata": {},
   "outputs": [],
   "source": [
    "def mostrar_imagen(title, imagen):\n",
    "  imagen = cv2.cvtColor(imagen,cv2.COLOR_BGR2RGB)\n",
    "  plt.imshow(imagen)\n",
    "  plt.title(title)\n",
    "  plt.grid(False)\n",
    "  plt.show()"
   ]
  },
  {
   "cell_type": "code",
   "execution_count": 3,
   "id": "a7719e99",
   "metadata": {},
   "outputs": [],
   "source": [
    "args = {\n",
    "\t\"imagen\": \"03_PastorAleman_Cachorro.jpg\"\n",
    "}"
   ]
  },
  {
   "cell_type": "code",
   "execution_count": 4,
   "id": "0d4c409a",
   "metadata": {},
   "outputs": [
    {
     "data": {
      "text/plain": [
       "-1"
      ]
     },
     "execution_count": 4,
     "metadata": {},
     "output_type": "execute_result"
    }
   ],
   "source": [
    "imagen = cv2.imread(args[\"imagen\"])\n",
    "cv2.imshow(\"Original\",imagen)\n",
    "cv2.waitKey(0)"
   ]
  },
  {
   "cell_type": "code",
   "execution_count": 5,
   "id": "3908fae0",
   "metadata": {},
   "outputs": [
    {
     "data": {
      "text/plain": [
       "-1"
      ]
     },
     "execution_count": 5,
     "metadata": {},
     "output_type": "execute_result"
    }
   ],
   "source": [
    "gray = cv2.cvtColor(imagen,cv2.COLOR_BGR2GRAY)\n",
    "cv2.imshow(\"Gray\",gray)\n",
    "cv2.waitKey(0)"
   ]
  },
  {
   "cell_type": "code",
   "execution_count": 6,
   "id": "352181b9",
   "metadata": {},
   "outputs": [
    {
     "data": {
      "text/plain": [
       "-1"
      ]
     },
     "execution_count": 6,
     "metadata": {},
     "output_type": "execute_result"
    }
   ],
   "source": [
    "hsv = cv2.cvtColor(imagen,cv2.COLOR_BGR2HSV)\n",
    "cv2.imshow(\"HSV\",hsv)\n",
    "cv2.waitKey(0)"
   ]
  },
  {
   "cell_type": "code",
   "execution_count": 7,
   "id": "81872378",
   "metadata": {},
   "outputs": [
    {
     "data": {
      "text/plain": [
       "-1"
      ]
     },
     "execution_count": 7,
     "metadata": {},
     "output_type": "execute_result"
    }
   ],
   "source": [
    "lab = cv2.cvtColor(imagen,cv2.COLOR_BGR2LAB)\n",
    "cv2.imshow(\"LAB\",lab)\n",
    "cv2.waitKey(0)"
   ]
  }
 ],
 "metadata": {
  "kernelspec": {
   "display_name": "Python 3 (ipykernel)",
   "language": "python",
   "name": "python3"
  },
  "language_info": {
   "codemirror_mode": {
    "name": "ipython",
    "version": 3
   },
   "file_extension": ".py",
   "mimetype": "text/x-python",
   "name": "python",
   "nbconvert_exporter": "python",
   "pygments_lexer": "ipython3",
   "version": "3.9.12"
  }
 },
 "nbformat": 4,
 "nbformat_minor": 5
}
